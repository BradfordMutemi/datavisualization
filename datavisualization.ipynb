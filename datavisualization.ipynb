{
 "cells": [
  {
   "cell_type": "code",
   "execution_count": 1,
   "metadata": {},
   "outputs": [],
   "source": [
    "import pandas as pd\n",
    "import numpy as np"
   ]
  },
  {
   "cell_type": "code",
   "execution_count": 8,
   "metadata": {},
   "outputs": [
    {
     "ename": "TypeError",
     "evalue": "read_excel() got an unexpected keyword argument 'sheetname'",
     "output_type": "error",
     "traceback": [
      "\u001b[1;31m---------------------------------------------------------------------------\u001b[0m",
      "\u001b[1;31mTypeError\u001b[0m                                 Traceback (most recent call last)",
      "Cell \u001b[1;32mIn[8], line 1\u001b[0m\n\u001b[1;32m----> 1\u001b[0m df_can \u001b[39m=\u001b[39m pd\u001b[39m.\u001b[39;49mread_excel(\u001b[39mr\u001b[39;49m\u001b[39m'\u001b[39;49m\u001b[39mCanada.xlsx\u001b[39;49m\u001b[39m'\u001b[39;49m,\n\u001b[0;32m      2\u001b[0m                 sheetname\u001b[39m=\u001b[39;49m\u001b[39m'\u001b[39;49m\u001b[39mCanada by Citizenship\u001b[39;49m\u001b[39m'\u001b[39;49m,\n\u001b[0;32m      3\u001b[0m                 skiprows\u001b[39m=\u001b[39;49m\u001b[39mrange\u001b[39;49m(\u001b[39m20\u001b[39;49m),\n\u001b[0;32m      4\u001b[0m                 skip_footer\u001b[39m=\u001b[39;49m\u001b[39m2\u001b[39;49m)\n",
      "\u001b[1;31mTypeError\u001b[0m: read_excel() got an unexpected keyword argument 'sheetname'"
     ]
    }
   ],
   "source": [
    "df_can = pd.read_excel('Canada.xlsx',\n",
    "                sheetname='Canada by Citizenship',\n",
    "                skiprows=range(20),\n",
    "                skip_footer=2,)"
   ]
  }
 ],
 "metadata": {
  "kernelspec": {
   "display_name": "datavisualization",
   "language": "python",
   "name": "python3"
  },
  "language_info": {
   "codemirror_mode": {
    "name": "ipython",
    "version": 3
   },
   "file_extension": ".py",
   "mimetype": "text/x-python",
   "name": "python",
   "nbconvert_exporter": "python",
   "pygments_lexer": "ipython3",
   "version": "3.11.4"
  },
  "orig_nbformat": 4
 },
 "nbformat": 4,
 "nbformat_minor": 2
}
